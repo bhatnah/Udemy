{
  "nbformat": 4,
  "nbformat_minor": 0,
  "metadata": {
    "colab": {
      "provenance": [],
      "authorship_tag": "ABX9TyMbRTEMQyHHpaTRiRsV/riZ",
      "include_colab_link": true
    },
    "kernelspec": {
      "name": "python3",
      "display_name": "Python 3"
    },
    "language_info": {
      "name": "python"
    }
  },
  "cells": [
    {
      "cell_type": "markdown",
      "metadata": {
        "id": "view-in-github",
        "colab_type": "text"
      },
      "source": [
        "<a href=\"https://colab.research.google.com/github/bhatnah/Udemy/blob/main/HelloWorld.ipynb\" target=\"_parent\"><img src=\"https://colab.research.google.com/assets/colab-badge.svg\" alt=\"Open In Colab\"/></a>"
      ]
    },
    {
      "cell_type": "code",
      "execution_count": 6,
      "metadata": {
        "colab": {
          "base_uri": "https://localhost:8080/"
        },
        "id": "0L181_I2h0SQ",
        "outputId": "5219fc74-ee84-4087-c9d5-3ed54c55590e"
      },
      "outputs": [
        {
          "output_type": "stream",
          "name": "stdout",
          "text": [
            "enter your age3\n",
            "you are child\n"
          ]
        }
      ],
      "source": [
        "age = int(input(\"enter your age\"))\n",
        "if age >=18:\n",
        "  print(\"you are adult\")\n",
        "elif age >= 13:\n",
        "  print(\"you are teen\")\n",
        "else:\n",
        "  print(\"you are child\")\n"
      ]
    },
    {
      "cell_type": "code",
      "source": [],
      "metadata": {
        "id": "rjBKeIKIh_Ji"
      },
      "execution_count": 4,
      "outputs": []
    },
    {
      "cell_type": "markdown",
      "source": [],
      "metadata": {
        "id": "vjtRjh80iiRz"
      }
    },
    {
      "cell_type": "markdown",
      "source": [
        "#HEllo World\n",
        "\n",
        "  ##New Prog\n",
        "  ###My Prog"
      ],
      "metadata": {
        "id": "Voahl-6nmgUa"
      }
    }
  ]
}